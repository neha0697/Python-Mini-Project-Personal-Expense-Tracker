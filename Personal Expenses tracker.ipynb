{
 "cells": [
  {
   "cell_type": "markdown",
   "id": "b6a02d25-48dd-4601-9a43-667eb0b44a4e",
   "metadata": {},
   "source": [
    "## Mini Project Personal Expenses Tracker"
   ]
  },
  {
   "cell_type": "markdown",
   "id": "3847ec1d-a903-4b63-9cee-114c8bb87f97",
   "metadata": {},
   "source": [
    "Developing a personal "
   ]
  }
 ],
 "metadata": {
  "kernelspec": {
   "display_name": "Python 3 (ipykernel)",
   "language": "python",
   "name": "python3"
  },
  "language_info": {
   "codemirror_mode": {
    "name": "ipython",
    "version": 3
   },
   "file_extension": ".py",
   "mimetype": "text/x-python",
   "name": "python",
   "nbconvert_exporter": "python",
   "pygments_lexer": "ipython3",
   "version": "3.12.3"
  }
 },
 "nbformat": 4,
 "nbformat_minor": 5
}
